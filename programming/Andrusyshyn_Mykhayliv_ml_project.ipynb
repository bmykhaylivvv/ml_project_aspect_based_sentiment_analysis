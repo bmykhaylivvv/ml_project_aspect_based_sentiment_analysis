{
 "cells": [
  {
   "cell_type": "code",
   "execution_count": 304,
   "metadata": {},
   "outputs": [
    {
     "name": "stdout",
     "output_type": "stream",
     "text": [
      "env: CORENLP_HOME=./stanford-corenlp-4.5.4\n"
     ]
    }
   ],
   "source": [
    "%env CORENLP_HOME=./stanford-corenlp-4.5.4"
   ]
  },
  {
   "cell_type": "code",
   "execution_count": 1,
   "metadata": {},
   "outputs": [],
   "source": [
    "import stanza\n",
    "# Import client module\n",
    "from stanza.server import CoreNLPClient"
   ]
  },
  {
   "cell_type": "code",
   "execution_count": 2,
   "metadata": {},
   "outputs": [],
   "source": [
    "import pandas as pd\n",
    "import numpy as np\n",
    "import re\n",
    "import nltk\n",
    "import nltk\n",
    "import matplotlib.pyplot as plt\n",
    "import random\n",
    "from nltk.corpus import stopwords"
   ]
  },
  {
   "cell_type": "code",
   "execution_count": 3,
   "metadata": {},
   "outputs": [
    {
     "data": {
      "text/plain": [
       "'1.23.5'"
      ]
     },
     "execution_count": 3,
     "metadata": {},
     "output_type": "execute_result"
    }
   ],
   "source": [
    "np.version.version"
   ]
  },
  {
   "cell_type": "code",
   "execution_count": 4,
   "metadata": {},
   "outputs": [
    {
     "name": "stderr",
     "output_type": "stream",
     "text": [
      "2023-05-25 20:37:58.375871: I tensorflow/core/platform/cpu_feature_guard.cc:182] This TensorFlow binary is optimized to use available CPU instructions in performance-critical operations.\n",
      "To enable the following instructions: AVX2 FMA, in other operations, rebuild TensorFlow with the appropriate compiler flags.\n"
     ]
    }
   ],
   "source": [
    "import tensorflow as tf"
   ]
  },
  {
   "cell_type": "code",
   "execution_count": 5,
   "metadata": {},
   "outputs": [],
   "source": [
    "from keras.preprocessing.text import one_hot, Tokenizer\n",
    "from keras.models import Sequential\n",
    "from keras.layers.core import Activation, Dropout, Dense\n",
    "from keras.layers import Flatten, GlobalMaxPooling1D, Embedding, Conv1D, LSTM, MaxPooling1D\n",
    "from sklearn.model_selection import train_test_split"
   ]
  },
  {
   "cell_type": "code",
   "execution_count": 6,
   "metadata": {},
   "outputs": [],
   "source": [
    "from keras_preprocessing.sequence import pad_sequences"
   ]
  },
  {
   "attachments": {},
   "cell_type": "markdown",
   "metadata": {},
   "source": [
    "## Loading dataset"
   ]
  },
  {
   "cell_type": "code",
   "execution_count": 183,
   "metadata": {},
   "outputs": [
    {
     "name": "stdout",
     "output_type": "stream",
     "text": [
      "   s.no  age   division_name department_name class_name  clothing_id  \\\n",
      "0     0   40         General         Bottoms      Jeans         1028   \n",
      "1     1   62  General Petite            Tops    Blouses          850   \n",
      "2     2   47  General Petite         Bottoms     Skirts          993   \n",
      "3     3   45  General Petite         Bottoms      Pants         1068   \n",
      "4     4   37       Initmates        Intimate       Swim           24   \n",
      "\n",
      "                    title                                        review_text  \\\n",
      "0    Amazing fit and wash  Like other reviewers i was hesitant to spend t...   \n",
      "1      Lovely and unique!  As is true of a bunch of the fall clothing pho...   \n",
      "2                     Meh  I so wanted this skirt to work, love the desig...   \n",
      "3                     Wow  Love love this! i was hesitant to buy this at ...   \n",
      "4  Great for bigger busts  I absolutely love the retro look of this swims...   \n",
      "\n",
      "   alike_feedback_count  rating  recommend_index   \n",
      "0                     0       5                 1  \n",
      "1                    12       5                 1  \n",
      "2                     3       1                 0  \n",
      "3                     0       5                 1  \n",
      "4                     0       5                 1  \n",
      "(23486, 2)\n"
     ]
    }
   ],
   "source": [
    "df = pd.read_csv('./data/women_dresses_reviews_dataset.csv')\n",
    "\n",
    "print(df.head())\n",
    "\n",
    "df = df[['review_text', 'rating']]\n",
    "\n",
    "print(df.shape)"
   ]
  },
  {
   "cell_type": "code",
   "execution_count": 184,
   "metadata": {},
   "outputs": [
    {
     "data": {
      "text/html": [
       "<div>\n",
       "<style scoped>\n",
       "    .dataframe tbody tr th:only-of-type {\n",
       "        vertical-align: middle;\n",
       "    }\n",
       "\n",
       "    .dataframe tbody tr th {\n",
       "        vertical-align: top;\n",
       "    }\n",
       "\n",
       "    .dataframe thead th {\n",
       "        text-align: right;\n",
       "    }\n",
       "</style>\n",
       "<table border=\"1\" class=\"dataframe\">\n",
       "  <thead>\n",
       "    <tr style=\"text-align: right;\">\n",
       "      <th></th>\n",
       "      <th>review_text</th>\n",
       "      <th>rating</th>\n",
       "    </tr>\n",
       "  </thead>\n",
       "  <tbody>\n",
       "    <tr>\n",
       "      <th>0</th>\n",
       "      <td>Like other reviewers i was hesitant to spend t...</td>\n",
       "      <td>5</td>\n",
       "    </tr>\n",
       "    <tr>\n",
       "      <th>1</th>\n",
       "      <td>As is true of a bunch of the fall clothing pho...</td>\n",
       "      <td>5</td>\n",
       "    </tr>\n",
       "    <tr>\n",
       "      <th>2</th>\n",
       "      <td>I so wanted this skirt to work, love the desig...</td>\n",
       "      <td>1</td>\n",
       "    </tr>\n",
       "    <tr>\n",
       "      <th>3</th>\n",
       "      <td>Love love this! i was hesitant to buy this at ...</td>\n",
       "      <td>5</td>\n",
       "    </tr>\n",
       "    <tr>\n",
       "      <th>4</th>\n",
       "      <td>I absolutely love the retro look of this swims...</td>\n",
       "      <td>5</td>\n",
       "    </tr>\n",
       "  </tbody>\n",
       "</table>\n",
       "</div>"
      ],
      "text/plain": [
       "                                         review_text  rating\n",
       "0  Like other reviewers i was hesitant to spend t...       5\n",
       "1  As is true of a bunch of the fall clothing pho...       5\n",
       "2  I so wanted this skirt to work, love the desig...       1\n",
       "3  Love love this! i was hesitant to buy this at ...       5\n",
       "4  I absolutely love the retro look of this swims...       5"
      ]
     },
     "execution_count": 184,
     "metadata": {},
     "output_type": "execute_result"
    }
   ],
   "source": [
    "df.head()"
   ]
  },
  {
   "cell_type": "code",
   "execution_count": 185,
   "metadata": {},
   "outputs": [
    {
     "data": {
      "image/png": "[encoded data removed]",
      "text/plain": [
       "<Figure size 1000x500 with 1 Axes>"
      ]
     },
     "metadata": {},
     "output_type": "display_data"
    }
   ],
   "source": [
    "ax = df['rating'].value_counts().sort_index().plot(kind='bar', title='Count of Reviews by Stars', figsize=(10, 5))\n",
    "ax.set_xlabel('Review Stars')\n",
    "plt.show()"
   ]
  },
  {
   "cell_type": "code",
   "execution_count": 186,
   "metadata": {},
   "outputs": [
    {
     "name": "stdout",
     "output_type": "stream",
     "text": [
      "I tried this on in my usual size and it was tight through the chest because of the lining. i would have preferred to wear a cami beneath and then it may have worked. the color and pattern are gorgeous, the fabric feels a bit weird, kind of dry and rough? would have liked to see this in a longer length, and more tapered. it is an absolute pregnant top. so sad its so pretty!\n"
     ]
    }
   ],
   "source": [
    "example = df['review_text'][100]\n",
    "\n",
    "print(example)"
   ]
  },
  {
   "attachments": {},
   "cell_type": "markdown",
   "metadata": {},
   "source": [
    "## Data manipulation"
   ]
  },
  {
   "cell_type": "code",
   "execution_count": 187,
   "metadata": {},
   "outputs": [
    {
     "name": "stdout",
     "output_type": "stream",
     "text": [
      "(22641, 2)\n"
     ]
    }
   ],
   "source": [
    "# Remove reviews with nan in review_text column\n",
    "df = df.dropna(subset=['review_text'])\n",
    "\n",
    "print(df.shape)\n",
    "\n",
    "# 0 -- negative\n",
    "# 1 -- positive\n",
    "# 2 -- neutral\n",
    "df['rating'] = df['rating'].replace({1.0: 'negative', 2.0: 'negative'})\n",
    "df['rating'] = df['rating'].replace(3.0, 'negative')\n",
    "df['rating'] = df['rating'].replace({5.0: 'positive', 4.0: 'positive'})\n",
    "# df['rating'] = df['rating'].replace({1.0: 1, 2.0: 2})\n",
    "# df['rating'] = df['rating'].replace(3.0, 3)\n",
    "# df['rating'] = df['rating'].replace({5.0: 5, 4.0: 4})"
   ]
  },
  {
   "cell_type": "code",
   "execution_count": 188,
   "metadata": {},
   "outputs": [
    {
     "data": {
      "image/png": "[encoded data removed]",
      "text/plain": [
       "<Figure size 1000x500 with 1 Axes>"
      ]
     },
     "metadata": {},
     "output_type": "display_data"
    }
   ],
   "source": [
    "ax = df['rating'].value_counts().sort_index().plot(kind='bar', title='Count of Reviews by Stars', figsize=(10, 5))\n",
    "ax.set_xlabel('Review Stars')\n",
    "plt.show()"
   ]
  },
  {
   "cell_type": "code",
   "execution_count": 189,
   "metadata": {},
   "outputs": [
    {
     "data": {
      "text/html": [
       "<div>\n",
       "<style scoped>\n",
       "    .dataframe tbody tr th:only-of-type {\n",
       "        vertical-align: middle;\n",
       "    }\n",
       "\n",
       "    .dataframe tbody tr th {\n",
       "        vertical-align: top;\n",
       "    }\n",
       "\n",
       "    .dataframe thead th {\n",
       "        text-align: right;\n",
       "    }\n",
       "</style>\n",
       "<table border=\"1\" class=\"dataframe\">\n",
       "  <thead>\n",
       "    <tr style=\"text-align: right;\">\n",
       "      <th></th>\n",
       "      <th>review_text</th>\n",
       "      <th>rating</th>\n",
       "    </tr>\n",
       "  </thead>\n",
       "  <tbody>\n",
       "    <tr>\n",
       "      <th>0</th>\n",
       "      <td>Like other reviewers i was hesitant to spend t...</td>\n",
       "      <td>positive</td>\n",
       "    </tr>\n",
       "    <tr>\n",
       "      <th>1</th>\n",
       "      <td>As is true of a bunch of the fall clothing pho...</td>\n",
       "      <td>positive</td>\n",
       "    </tr>\n",
       "    <tr>\n",
       "      <th>2</th>\n",
       "      <td>I so wanted this skirt to work, love the desig...</td>\n",
       "      <td>negative</td>\n",
       "    </tr>\n",
       "    <tr>\n",
       "      <th>3</th>\n",
       "      <td>Love love this! i was hesitant to buy this at ...</td>\n",
       "      <td>positive</td>\n",
       "    </tr>\n",
       "    <tr>\n",
       "      <th>4</th>\n",
       "      <td>I absolutely love the retro look of this swims...</td>\n",
       "      <td>positive</td>\n",
       "    </tr>\n",
       "  </tbody>\n",
       "</table>\n",
       "</div>"
      ],
      "text/plain": [
       "                                         review_text    rating\n",
       "0  Like other reviewers i was hesitant to spend t...  positive\n",
       "1  As is true of a bunch of the fall clothing pho...  positive\n",
       "2  I so wanted this skirt to work, love the desig...  negative\n",
       "3  Love love this! i was hesitant to buy this at ...  positive\n",
       "4  I absolutely love the retro look of this swims...  positive"
      ]
     },
     "execution_count": 189,
     "metadata": {},
     "output_type": "execute_result"
    }
   ],
   "source": [
    "df.head()"
   ]
  },
  {
   "attachments": {},
   "cell_type": "markdown",
   "metadata": {},
   "source": [
    "## Data preprocessing"
   ]
  },
  {
   "cell_type": "code",
   "execution_count": 190,
   "metadata": {},
   "outputs": [
    {
     "name": "stdout",
     "output_type": "stream",
     "text": [
      "I ordered these leggings and loved them, for about an hour- at which point the belt loop ripped off of the pant, leaving a hole. i called customer service and they sent me a 2nd pair. same thing happened. i never even pulled on the belt loop. they are just so flimsy. it's a shame bc they are cool looking.\n"
     ]
    }
   ],
   "source": [
    "before_preprocessing_example = df['review_text'][300]\n",
    "\n",
    "print(before_preprocessing_example)"
   ]
  },
  {
   "cell_type": "code",
   "execution_count": 191,
   "metadata": {},
   "outputs": [
    {
     "name": "stderr",
     "output_type": "stream",
     "text": [
      "[nltk_data] Downloading package stopwords to\n",
      "[nltk_data]     /Users/bohdan.mykhayliv/nltk_data...\n",
      "[nltk_data]   Package stopwords is already up-to-date!\n"
     ]
    },
    {
     "data": {
      "text/plain": [
       "True"
      ]
     },
     "execution_count": 191,
     "metadata": {},
     "output_type": "execute_result"
    }
   ],
   "source": [
    "# download the stopwords from NLTK\n",
    "nltk.download('stopwords')"
   ]
  },
  {
   "cell_type": "code",
   "execution_count": 192,
   "metadata": {},
   "outputs": [],
   "source": [
    "import re                                  # library for regular expression operations\n",
    "import string                              # for string operations\n",
    "\n",
    "from nltk.corpus import stopwords          # module for stop words that come with NLTK\n",
    "from nltk.stem import PorterStemmer        # module for stemming\n",
    "from nltk.tokenize import TweetTokenizer   # module for tokenizing strings\n",
    "from nltk.stem import WordNetLemmatizer"
   ]
  },
  {
   "cell_type": "code",
   "execution_count": 193,
   "metadata": {},
   "outputs": [
    {
     "name": "stderr",
     "output_type": "stream",
     "text": [
      "[nltk_data] Downloading package omw-1.4 to\n",
      "[nltk_data]     /Users/bohdan.mykhayliv/nltk_data...\n",
      "[nltk_data]   Package omw-1.4 is already up-to-date!\n"
     ]
    },
    {
     "data": {
      "text/plain": [
       "True"
      ]
     },
     "execution_count": 193,
     "metadata": {},
     "output_type": "execute_result"
    }
   ],
   "source": [
    "nltk.download('omw-1.4')"
   ]
  },
  {
   "cell_type": "code",
   "execution_count": 194,
   "metadata": {},
   "outputs": [],
   "source": [
    "def preprocess_text(initial_text):\n",
    "  try:\n",
    "    text = re.sub(r'^RT[\\s]+', '', initial_text) \n",
    "    text = re.sub(r'https?:\\/\\/.*[\\r\\n]*', '', text)\n",
    "    text = re.sub(r'#', '', text)\n",
    "    tokenizer = TweetTokenizer(preserve_case=False, strip_handles=True, reduce_len=True)\n",
    "    text_tokens = tokenizer.tokenize(text)\n",
    "    stopwords_english = stopwords.words('english')\n",
    "    text_clean = []\n",
    "\n",
    "    for word in text_tokens:\n",
    "      # Remove stopwords and punctuation\n",
    "      if (word not in stopwords_english and word not in string.punctuation):\n",
    "          text_clean.append(word)\n",
    "\n",
    "    lemmatizer = WordNetLemmatizer()\n",
    "    text_lem = [] \n",
    "\n",
    "    for word in text_clean:\n",
    "        try:\n",
    "          word = word.lower()\n",
    "        except:\n",
    "          continue\n",
    "\n",
    "        lem_word = lemmatizer.lemmatize(word)  # lemmatizing word\n",
    "        text_lem.append(lem_word) \n",
    "\n",
    "    return ' '.join(text_lem)\n",
    "  except:\n",
    "    return initial_text\n"
   ]
  },
  {
   "cell_type": "code",
   "execution_count": 195,
   "metadata": {},
   "outputs": [
    {
     "name": "stdout",
     "output_type": "stream",
     "text": [
      "ordered legging loved hour point belt loop ripped pant leaving hole called customer service sent 2nd pair thing happened never even pulled belt loop flimsy shame bc cool looking\n"
     ]
    }
   ],
   "source": [
    "print(preprocess_text(before_preprocessing_example))"
   ]
  },
  {
   "cell_type": "code",
   "execution_count": 196,
   "metadata": {},
   "outputs": [],
   "source": [
    "# Preprocess all text in dataframe\n",
    "df['processed_review_text'] = df['review_text'].apply(preprocess_text)"
   ]
  },
  {
   "cell_type": "code",
   "execution_count": 197,
   "metadata": {},
   "outputs": [
    {
     "data": {
      "text/html": [
       "<div>\n",
       "<style scoped>\n",
       "    .dataframe tbody tr th:only-of-type {\n",
       "        vertical-align: middle;\n",
       "    }\n",
       "\n",
       "    .dataframe tbody tr th {\n",
       "        vertical-align: top;\n",
       "    }\n",
       "\n",
       "    .dataframe thead th {\n",
       "        text-align: right;\n",
       "    }\n",
       "</style>\n",
       "<table border=\"1\" class=\"dataframe\">\n",
       "  <thead>\n",
       "    <tr style=\"text-align: right;\">\n",
       "      <th></th>\n",
       "      <th>review_text</th>\n",
       "      <th>rating</th>\n",
       "      <th>processed_review_text</th>\n",
       "    </tr>\n",
       "  </thead>\n",
       "  <tbody>\n",
       "    <tr>\n",
       "      <th>0</th>\n",
       "      <td>Like other reviewers i was hesitant to spend t...</td>\n",
       "      <td>positive</td>\n",
       "      <td>like reviewer hesitant spend much pair jean ho...</td>\n",
       "    </tr>\n",
       "    <tr>\n",
       "      <th>1</th>\n",
       "      <td>As is true of a bunch of the fall clothing pho...</td>\n",
       "      <td>positive</td>\n",
       "      <td>true bunch fall clothing photo color totally w...</td>\n",
       "    </tr>\n",
       "    <tr>\n",
       "      <th>2</th>\n",
       "      <td>I so wanted this skirt to work, love the desig...</td>\n",
       "      <td>negative</td>\n",
       "      <td>wanted skirt work love design way way long ......</td>\n",
       "    </tr>\n",
       "    <tr>\n",
       "      <th>3</th>\n",
       "      <td>Love love this! i was hesitant to buy this at ...</td>\n",
       "      <td>positive</td>\n",
       "      <td>love love hesitant buy first review made seem ...</td>\n",
       "    </tr>\n",
       "    <tr>\n",
       "      <th>4</th>\n",
       "      <td>I absolutely love the retro look of this swims...</td>\n",
       "      <td>positive</td>\n",
       "      <td>absolutely love retro look swimsuit first saw ...</td>\n",
       "    </tr>\n",
       "  </tbody>\n",
       "</table>\n",
       "</div>"
      ],
      "text/plain": [
       "                                         review_text    rating  \\\n",
       "0  Like other reviewers i was hesitant to spend t...  positive   \n",
       "1  As is true of a bunch of the fall clothing pho...  positive   \n",
       "2  I so wanted this skirt to work, love the desig...  negative   \n",
       "3  Love love this! i was hesitant to buy this at ...  positive   \n",
       "4  I absolutely love the retro look of this swims...  positive   \n",
       "\n",
       "                               processed_review_text  \n",
       "0  like reviewer hesitant spend much pair jean ho...  \n",
       "1  true bunch fall clothing photo color totally w...  \n",
       "2  wanted skirt work love design way way long ......  \n",
       "3  love love hesitant buy first review made seem ...  \n",
       "4  absolutely love retro look swimsuit first saw ...  "
      ]
     },
     "execution_count": 197,
     "metadata": {},
     "output_type": "execute_result"
    }
   ],
   "source": [
    "df.head()"
   ]
  },
  {
   "cell_type": "code",
   "execution_count": 198,
   "metadata": {},
   "outputs": [],
   "source": [
    "X = list(df['processed_review_text'])"
   ]
  },
  {
   "cell_type": "code",
   "execution_count": 199,
   "metadata": {},
   "outputs": [
    {
     "data": {
      "text/plain": [
       "'true bunch fall clothing photo color totally washed model image shame embroidery bright vivid totally unique bib area actually soft corduroy think nice transition fall winter term fit feel like maybe geared towards slender build slim cut found really flattering since sometimes swim tunic 5 7 128 small'"
      ]
     },
     "execution_count": 199,
     "metadata": {},
     "output_type": "execute_result"
    }
   ],
   "source": [
    "X[1]"
   ]
  },
  {
   "cell_type": "code",
   "execution_count": 200,
   "metadata": {},
   "outputs": [],
   "source": [
    "y = df['rating']\n",
    "\n",
    "# 0 -- negative\n",
    "# 1 -- positive\n",
    "# 2 -- neutral\n",
    "y = y.replace('negative', 0)\n",
    "y = y.replace('neutral', 2)\n",
    "y = y.replace('positive', 1)\n",
    "\n",
    "y = np.array(list(y))\n"
   ]
  },
  {
   "cell_type": "code",
   "execution_count": 201,
   "metadata": {},
   "outputs": [
    {
     "data": {
      "text/plain": [
       "array([1, 1, 0, ..., 1, 1, 1])"
      ]
     },
     "execution_count": 201,
     "metadata": {},
     "output_type": "execute_result"
    }
   ],
   "source": [
    "y"
   ]
  },
  {
   "cell_type": "code",
   "execution_count": 202,
   "metadata": {},
   "outputs": [],
   "source": [
    "# Split data on train and test\n",
    "X_train, X_test, y_train, y_test = train_test_split(X, y, test_size=0.2, random_state=42)"
   ]
  },
  {
   "attachments": {},
   "cell_type": "markdown",
   "metadata": {},
   "source": [
    "## Preparing embedding layer"
   ]
  },
  {
   "cell_type": "code",
   "execution_count": 203,
   "metadata": {},
   "outputs": [],
   "source": [
    "word_tokenizer = Tokenizer()\n",
    "# tokenizes the text data and creates a dictionary of word index mappings, where each word is assigned a unique integer ID.\n",
    "# This dictionary can then be used to convert a text sample into a sequence of integers, which can be fed into a deep learning model.\n",
    "word_tokenizer.fit_on_texts(X_train)\n",
    "\n",
    "# After fit_on_texts is called, the texts_to_sequences function can be used to convert each text sample into\n",
    "# a sequence of corresponding integers based on the dictionary created by fit_on_texts.\n",
    "# Transforms each text in texts to a sequence of integers.\n",
    "X_train = word_tokenizer.texts_to_sequences(X_train)\n",
    "X_test = word_tokenizer.texts_to_sequences(X_test)"
   ]
  },
  {
   "cell_type": "code",
   "execution_count": 204,
   "metadata": {},
   "outputs": [],
   "source": [
    "import json"
   ]
  },
  {
   "cell_type": "code",
   "execution_count": 205,
   "metadata": {},
   "outputs": [],
   "source": [
    "tokenizer_json = word_tokenizer.to_json()\n",
    "\n",
    "with open('./preparing/b3_tokenizer.json', 'w', encoding='utf-8') as f:\n",
    "    f.write(json.dumps(tokenizer_json, ensure_ascii=False))"
   ]
  },
  {
   "cell_type": "code",
   "execution_count": 206,
   "metadata": {},
   "outputs": [
    {
     "data": {
      "text/plain": [
       "11835"
      ]
     },
     "execution_count": 206,
     "metadata": {},
     "output_type": "execute_result"
    }
   ],
   "source": [
    "# Adding 1 to store dimensions for words for which no pretrained word embeddings exist\n",
    "vocab_length = len(word_tokenizer.word_index) + 1\n",
    "\n",
    "vocab_length"
   ]
  },
  {
   "cell_type": "code",
   "execution_count": 207,
   "metadata": {},
   "outputs": [],
   "source": [
    "maxlen = 100\n",
    "\n",
    "X_train = pad_sequences(X_train, padding='post', maxlen=maxlen)\n",
    "X_test = pad_sequences(X_test, padding='post', maxlen=maxlen)"
   ]
  },
  {
   "cell_type": "code",
   "execution_count": 208,
   "metadata": {},
   "outputs": [],
   "source": [
    "from numpy import asarray\n",
    "from numpy import zeros\n",
    "\n",
    "embeddings_dictionary = dict()\n",
    "glove_file = open('./preparing/glove.6B.100d.txt', encoding=\"utf8\")\n",
    "\n",
    "for line in glove_file:\n",
    "    records = line.split()\n",
    "    word = records[0]\n",
    "    vector_dimensions = asarray(records[1:], dtype='float32')\n",
    "    embeddings_dictionary [word] = vector_dimensions\n",
    "glove_file.close()"
   ]
  },
  {
   "cell_type": "code",
   "execution_count": 209,
   "metadata": {},
   "outputs": [],
   "source": [
    "# Create Embedding Matrix having 100 columns \n",
    "# Containing 100-dimensional GloVe word embeddings for all words in our corpus.\n",
    "\n",
    "embedding_matrix = zeros((vocab_length, 100))\n",
    "for word, index in word_tokenizer.word_index.items():\n",
    "    embedding_vector = embeddings_dictionary.get(word)\n",
    "    if embedding_vector is not None:\n",
    "        embedding_matrix[index] = embedding_vector"
   ]
  },
  {
   "cell_type": "code",
   "execution_count": 210,
   "metadata": {},
   "outputs": [
    {
     "data": {
      "text/plain": [
       "(11835, 100)"
      ]
     },
     "execution_count": 210,
     "metadata": {},
     "output_type": "execute_result"
    }
   ],
   "source": [
    "embedding_matrix.shape"
   ]
  },
  {
   "attachments": {},
   "cell_type": "markdown",
   "metadata": {},
   "source": [
    "# Model Training with:"
   ]
  },
  {
   "attachments": {},
   "cell_type": "markdown",
   "metadata": {},
   "source": [
    "## Simple Neural Network"
   ]
  },
  {
   "cell_type": "code",
   "execution_count": 94,
   "metadata": {},
   "outputs": [],
   "source": [
    "snn_model = Sequential()\n",
    "embedding_layer = Embedding(vocab_length, 100, weights=[embedding_matrix], input_length=maxlen , trainable=False)\n",
    "\n",
    "snn_model.add(embedding_layer)\n",
    "\n",
    "snn_model.add(Flatten())\n",
    "snn_model.add(Dense(1, activation='sigmoid'))"
   ]
  },
  {
   "cell_type": "code",
   "execution_count": 95,
   "metadata": {},
   "outputs": [
    {
     "name": "stdout",
     "output_type": "stream",
     "text": [
      "Model: \"sequential_1\"\n",
      "_________________________________________________________________\n",
      " Layer (type)                Output Shape              Param #   \n",
      "=================================================================\n",
      " embedding_1 (Embedding)     (None, 100, 100)          1183500   \n",
      "                                                                 \n",
      " flatten_1 (Flatten)         (None, 10000)             0         \n",
      "                                                                 \n",
      " dense_1 (Dense)             (None, 1)                 10001     \n",
      "                                                                 \n",
      "=================================================================\n",
      "Total params: 1,193,501\n",
      "Trainable params: 10,001\n",
      "Non-trainable params: 1,183,500\n",
      "_________________________________________________________________\n",
      "None\n"
     ]
    }
   ],
   "source": [
    "snn_model.compile(optimizer='adam', loss='binary_crossentropy', metrics=['acc'])\n",
    "\n",
    "print(snn_model.summary())"
   ]
  },
  {
   "cell_type": "code",
   "execution_count": 96,
   "metadata": {},
   "outputs": [
    {
     "name": "stdout",
     "output_type": "stream",
     "text": [
      "Epoch 1/6\n",
      "114/114 [==============================] - 1s 5ms/step - loss: 0.5072 - acc: 0.7667 - val_loss: 0.4662 - val_acc: 0.7844\n",
      "Epoch 2/6\n",
      "114/114 [==============================] - 0s 4ms/step - loss: 0.4251 - acc: 0.8031 - val_loss: 0.4486 - val_acc: 0.7900\n",
      "Epoch 3/6\n",
      "114/114 [==============================] - 0s 3ms/step - loss: 0.3882 - acc: 0.8232 - val_loss: 0.4382 - val_acc: 0.7933\n",
      "Epoch 4/6\n",
      "114/114 [==============================] - 0s 3ms/step - loss: 0.3651 - acc: 0.8389 - val_loss: 0.4358 - val_acc: 0.7999\n",
      "Epoch 5/6\n",
      "114/114 [==============================] - 0s 3ms/step - loss: 0.3466 - acc: 0.8476 - val_loss: 0.4364 - val_acc: 0.8015\n",
      "Epoch 6/6\n",
      "114/114 [==============================] - 0s 3ms/step - loss: 0.3343 - acc: 0.8538 - val_loss: 0.4395 - val_acc: 0.8043\n"
     ]
    }
   ],
   "source": [
    "snn_model_history = snn_model.fit(X_train, y_train, batch_size=128, epochs=6, verbose=1, validation_split=0.2)"
   ]
  },
  {
   "cell_type": "code",
   "execution_count": 97,
   "metadata": {},
   "outputs": [
    {
     "name": "stdout",
     "output_type": "stream",
     "text": [
      "142/142 [==============================] - 0s 1ms/step - loss: 0.4359 - acc: 0.8050\n"
     ]
    }
   ],
   "source": [
    "score = snn_model.evaluate(X_test, y_test, verbose=1)"
   ]
  },
  {
   "cell_type": "code",
   "execution_count": 98,
   "metadata": {},
   "outputs": [
    {
     "name": "stdout",
     "output_type": "stream",
     "text": [
      "Test Score: 0.43586039543151855\n",
      "Test Accuracy: 0.8050342202186584\n"
     ]
    }
   ],
   "source": [
    "print(\"Test Score:\", score[0])\n",
    "print(\"Test Accuracy:\", score[1])"
   ]
  },
  {
   "attachments": {},
   "cell_type": "markdown",
   "metadata": {},
   "source": [
    "## Convolutional Neural Network"
   ]
  },
  {
   "cell_type": "code",
   "execution_count": 175,
   "metadata": {},
   "outputs": [],
   "source": [
    "from keras.layers import Conv1D"
   ]
  },
  {
   "cell_type": "code",
   "execution_count": 214,
   "metadata": {},
   "outputs": [],
   "source": [
    "cnn_model = Sequential()\n",
    "\n",
    "embedding_layer = Embedding(vocab_length, 100, weights=[embedding_matrix], input_length=maxlen , trainable=False)\n",
    "cnn_model.add(embedding_layer)\n",
    "\n",
    "cnn_model.add(Conv1D(filters=128, kernel_size=5, activation='relu'))\n",
    "\n",
    "cnn_model.add(GlobalMaxPooling1D())\n",
    "\n",
    "cnn_model.add(Dense(1, activation='sigmoid'))"
   ]
  },
  {
   "cell_type": "code",
   "execution_count": 215,
   "metadata": {},
   "outputs": [
    {
     "name": "stdout",
     "output_type": "stream",
     "text": [
      "Model: \"sequential_9\"\n",
      "_________________________________________________________________\n",
      " Layer (type)                Output Shape              Param #   \n",
      "=================================================================\n",
      " embedding_9 (Embedding)     (None, 100, 100)          1183500   \n",
      "                                                                 \n",
      " conv1d_8 (Conv1D)           (None, 96, 128)           64128     \n",
      "                                                                 \n",
      " global_max_pooling1d_5 (Glo  (None, 128)              0         \n",
      " balMaxPooling1D)                                                \n",
      "                                                                 \n",
      " dense_13 (Dense)            (None, 1)                 129       \n",
      "                                                                 \n",
      "=================================================================\n",
      "Total params: 1,247,757\n",
      "Trainable params: 64,257\n",
      "Non-trainable params: 1,183,500\n",
      "_________________________________________________________________\n",
      "None\n"
     ]
    }
   ],
   "source": [
    "cnn_model.compile(optimizer='adam', loss='binary_crossentropy', metrics=['acc'])\n",
    "print(cnn_model.summary())"
   ]
  },
  {
   "cell_type": "code",
   "execution_count": 216,
   "metadata": {},
   "outputs": [
    {
     "name": "stdout",
     "output_type": "stream",
     "text": [
      "Epoch 1/10\n",
      "114/114 [==============================] - 4s 27ms/step - loss: 0.4974 - acc: 0.7793 - val_loss: 0.4003 - val_acc: 0.8126\n",
      "Epoch 2/10\n",
      "114/114 [==============================] - 3s 24ms/step - loss: 0.3483 - acc: 0.8507 - val_loss: 0.3677 - val_acc: 0.8253\n",
      "Epoch 3/10\n",
      "114/114 [==============================] - 3s 24ms/step - loss: 0.2933 - acc: 0.8803 - val_loss: 0.3409 - val_acc: 0.8482\n",
      "Epoch 4/10\n",
      "114/114 [==============================] - 3s 24ms/step - loss: 0.2549 - acc: 0.9000 - val_loss: 0.3348 - val_acc: 0.8507\n",
      "Epoch 5/10\n",
      "114/114 [==============================] - 3s 23ms/step - loss: 0.2168 - acc: 0.9215 - val_loss: 0.3692 - val_acc: 0.8385\n",
      "Epoch 6/10\n",
      "114/114 [==============================] - 3s 24ms/step - loss: 0.1834 - acc: 0.9384 - val_loss: 0.3266 - val_acc: 0.8562\n",
      "Epoch 7/10\n",
      "114/114 [==============================] - 3s 24ms/step - loss: 0.1512 - acc: 0.9554 - val_loss: 0.3370 - val_acc: 0.8540\n",
      "Epoch 8/10\n",
      "114/114 [==============================] - 3s 23ms/step - loss: 0.1264 - acc: 0.9674 - val_loss: 0.3326 - val_acc: 0.8548\n",
      "Epoch 9/10\n",
      "114/114 [==============================] - 3s 23ms/step - loss: 0.1012 - acc: 0.9801 - val_loss: 0.3515 - val_acc: 0.8526\n",
      "Epoch 10/10\n",
      "114/114 [==============================] - 3s 25ms/step - loss: 0.0792 - acc: 0.9902 - val_loss: 0.3563 - val_acc: 0.8498\n"
     ]
    }
   ],
   "source": [
    "cnn_model_history = cnn_model.fit(X_train, y_train, batch_size=128, epochs=10, verbose=1, validation_split=0.2)"
   ]
  },
  {
   "cell_type": "code",
   "execution_count": 217,
   "metadata": {},
   "outputs": [
    {
     "name": "stdout",
     "output_type": "stream",
     "text": [
      "142/142 [==============================] - 1s 4ms/step - loss: 0.3486 - acc: 0.8616\n"
     ]
    }
   ],
   "source": [
    "cnn_model_score = cnn_model.evaluate(X_test, y_test, verbose=1)"
   ]
  },
  {
   "cell_type": "code",
   "execution_count": 218,
   "metadata": {},
   "outputs": [
    {
     "name": "stdout",
     "output_type": "stream",
     "text": [
      "Test Score: 0.34857526421546936\n",
      "Test Accuracy: 0.8615588545799255\n"
     ]
    }
   ],
   "source": [
    "print(\"Test Score:\", cnn_model_score[0])\n",
    "print(\"Test Accuracy:\", cnn_model_score[1])"
   ]
  },
  {
   "attachments": {},
   "cell_type": "markdown",
   "metadata": {},
   "source": [
    "# Recurrent Neural Network (LSTM)"
   ]
  },
  {
   "cell_type": "code",
   "execution_count": 181,
   "metadata": {},
   "outputs": [
    {
     "name": "stderr",
     "output_type": "stream",
     "text": [
      "2023-05-25 21:00:11.673865: I tensorflow/core/common_runtime/executor.cc:1197] [/device:CPU:0] (DEBUG INFO) Executor start aborting (this does not indicate an error and you can ignore this message): INVALID_ARGUMENT: You must feed a value for placeholder tensor 'gradients/split_2_grad/concat/split_2/split_dim' with dtype int32\n",
      "\t [[{{node gradients/split_2_grad/concat/split_2/split_dim}}]]\n",
      "2023-05-25 21:00:11.675463: I tensorflow/core/common_runtime/executor.cc:1197] [/device:CPU:0] (DEBUG INFO) Executor start aborting (this does not indicate an error and you can ignore this message): INVALID_ARGUMENT: You must feed a value for placeholder tensor 'gradients/split_grad/concat/split/split_dim' with dtype int32\n",
      "\t [[{{node gradients/split_grad/concat/split/split_dim}}]]\n",
      "2023-05-25 21:00:11.676774: I tensorflow/core/common_runtime/executor.cc:1197] [/device:CPU:0] (DEBUG INFO) Executor start aborting (this does not indicate an error and you can ignore this message): INVALID_ARGUMENT: You must feed a value for placeholder tensor 'gradients/split_1_grad/concat/split_1/split_dim' with dtype int32\n",
      "\t [[{{node gradients/split_1_grad/concat/split_1/split_dim}}]]\n"
     ]
    }
   ],
   "source": [
    "lstm_model = Sequential()\n",
    "embedding_layer = Embedding(vocab_length, 100, weights=[embedding_matrix], input_length=maxlen , trainable=False)\n",
    "\n",
    "lstm_model.add(embedding_layer)\n",
    "lstm_model.add(LSTM(128))\n",
    "\n",
    "lstm_model.add(Dense(1, activation='sigmoid'))"
   ]
  },
  {
   "cell_type": "code",
   "execution_count": 182,
   "metadata": {},
   "outputs": [
    {
     "name": "stdout",
     "output_type": "stream",
     "text": [
      "Model: \"sequential_7\"\n",
      "_________________________________________________________________\n",
      " Layer (type)                Output Shape              Param #   \n",
      "=================================================================\n",
      " embedding_7 (Embedding)     (None, 100, 100)          1183500   \n",
      "                                                                 \n",
      " lstm (LSTM)                 (None, 128)               117248    \n",
      "                                                                 \n",
      " dense_11 (Dense)            (None, 1)                 129       \n",
      "                                                                 \n",
      "=================================================================\n",
      "Total params: 1,300,877\n",
      "Trainable params: 117,377\n",
      "Non-trainable params: 1,183,500\n",
      "_________________________________________________________________\n",
      "None\n"
     ]
    }
   ],
   "source": [
    "lstm_model.compile(optimizer='adam', loss='binary_crossentropy', metrics=['acc'])\n",
    "print(lstm_model.summary())"
   ]
  },
  {
   "cell_type": "code",
   "execution_count": 48,
   "metadata": {},
   "outputs": [
    {
     "name": "stdout",
     "output_type": "stream",
     "text": [
      "Epoch 1/6\n"
     ]
    },
    {
     "name": "stderr",
     "output_type": "stream",
     "text": [
      "2023-05-25 00:31:01.817826: I tensorflow/core/common_runtime/executor.cc:1197] [/device:CPU:0] (DEBUG INFO) Executor start aborting (this does not indicate an error and you can ignore this message): INVALID_ARGUMENT: You must feed a value for placeholder tensor 'gradients/split_2_grad/concat/split_2/split_dim' with dtype int32\n",
      "\t [[{{node gradients/split_2_grad/concat/split_2/split_dim}}]]\n",
      "2023-05-25 00:31:01.819220: I tensorflow/core/common_runtime/executor.cc:1197] [/device:CPU:0] (DEBUG INFO) Executor start aborting (this does not indicate an error and you can ignore this message): INVALID_ARGUMENT: You must feed a value for placeholder tensor 'gradients/split_grad/concat/split/split_dim' with dtype int32\n",
      "\t [[{{node gradients/split_grad/concat/split/split_dim}}]]\n",
      "2023-05-25 00:31:01.820741: I tensorflow/core/common_runtime/executor.cc:1197] [/device:CPU:0] (DEBUG INFO) Executor start aborting (this does not indicate an error and you can ignore this message): INVALID_ARGUMENT: You must feed a value for placeholder tensor 'gradients/split_1_grad/concat/split_1/split_dim' with dtype int32\n",
      "\t [[{{node gradients/split_1_grad/concat/split_1/split_dim}}]]\n",
      "2023-05-25 00:31:02.530993: I tensorflow/core/common_runtime/executor.cc:1197] [/device:CPU:0] (DEBUG INFO) Executor start aborting (this does not indicate an error and you can ignore this message): INVALID_ARGUMENT: You must feed a value for placeholder tensor 'gradients/split_2_grad/concat/split_2/split_dim' with dtype int32\n",
      "\t [[{{node gradients/split_2_grad/concat/split_2/split_dim}}]]\n",
      "2023-05-25 00:31:02.532966: I tensorflow/core/common_runtime/executor.cc:1197] [/device:CPU:0] (DEBUG INFO) Executor start aborting (this does not indicate an error and you can ignore this message): INVALID_ARGUMENT: You must feed a value for placeholder tensor 'gradients/split_grad/concat/split/split_dim' with dtype int32\n",
      "\t [[{{node gradients/split_grad/concat/split/split_dim}}]]\n",
      "2023-05-25 00:31:02.534282: I tensorflow/core/common_runtime/executor.cc:1197] [/device:CPU:0] (DEBUG INFO) Executor start aborting (this does not indicate an error and you can ignore this message): INVALID_ARGUMENT: You must feed a value for placeholder tensor 'gradients/split_1_grad/concat/split_1/split_dim' with dtype int32\n",
      "\t [[{{node gradients/split_1_grad/concat/split_1/split_dim}}]]\n"
     ]
    },
    {
     "name": "stdout",
     "output_type": "stream",
     "text": [
      "114/114 [==============================] - ETA: 0s - loss: 0.5497 - acc: 0.7707"
     ]
    },
    {
     "name": "stderr",
     "output_type": "stream",
     "text": [
      "2023-05-25 00:31:35.914947: I tensorflow/core/common_runtime/executor.cc:1197] [/device:CPU:0] (DEBUG INFO) Executor start aborting (this does not indicate an error and you can ignore this message): INVALID_ARGUMENT: You must feed a value for placeholder tensor 'gradients/split_2_grad/concat/split_2/split_dim' with dtype int32\n",
      "\t [[{{node gradients/split_2_grad/concat/split_2/split_dim}}]]\n",
      "2023-05-25 00:31:35.917547: I tensorflow/core/common_runtime/executor.cc:1197] [/device:CPU:0] (DEBUG INFO) Executor start aborting (this does not indicate an error and you can ignore this message): INVALID_ARGUMENT: You must feed a value for placeholder tensor 'gradients/split_grad/concat/split/split_dim' with dtype int32\n",
      "\t [[{{node gradients/split_grad/concat/split/split_dim}}]]\n",
      "2023-05-25 00:31:35.919770: I tensorflow/core/common_runtime/executor.cc:1197] [/device:CPU:0] (DEBUG INFO) Executor start aborting (this does not indicate an error and you can ignore this message): INVALID_ARGUMENT: You must feed a value for placeholder tensor 'gradients/split_1_grad/concat/split_1/split_dim' with dtype int32\n",
      "\t [[{{node gradients/split_1_grad/concat/split_1/split_dim}}]]\n"
     ]
    },
    {
     "name": "stdout",
     "output_type": "stream",
     "text": [
      "114/114 [==============================] - 38s 320ms/step - loss: 0.5497 - acc: 0.7707 - val_loss: 0.5449 - val_acc: 0.7662\n",
      "Epoch 2/6\n",
      "114/114 [==============================] - 46s 403ms/step - loss: 0.5379 - acc: 0.7707 - val_loss: 0.5465 - val_acc: 0.7662\n",
      "Epoch 3/6\n",
      "114/114 [==============================] - 46s 407ms/step - loss: 0.5362 - acc: 0.7713 - val_loss: 0.5413 - val_acc: 0.7662\n",
      "Epoch 4/6\n",
      "114/114 [==============================] - 41s 362ms/step - loss: 0.5289 - acc: 0.7713 - val_loss: 0.4962 - val_acc: 0.7659\n",
      "Epoch 5/6\n",
      "114/114 [==============================] - 48s 418ms/step - loss: 0.5013 - acc: 0.7716 - val_loss: 0.4599 - val_acc: 0.7657\n",
      "Epoch 6/6\n",
      "114/114 [==============================] - 46s 409ms/step - loss: 0.4683 - acc: 0.7800 - val_loss: 0.4503 - val_acc: 0.7720\n"
     ]
    }
   ],
   "source": [
    "lstm_model_history = lstm_model.fit(X_train, y_train, batch_size=128, epochs=6, verbose=1, validation_split=0.2)"
   ]
  },
  {
   "cell_type": "code",
   "execution_count": 49,
   "metadata": {},
   "outputs": [
    {
     "name": "stdout",
     "output_type": "stream",
     "text": [
      "142/142 [==============================] - 28s 196ms/step - loss: 0.4561 - acc: 0.7662\n"
     ]
    }
   ],
   "source": [
    "lstm_model_score = lstm_model.evaluate(X_test, y_test, verbose=1)"
   ]
  },
  {
   "cell_type": "code",
   "execution_count": 50,
   "metadata": {},
   "outputs": [
    {
     "name": "stdout",
     "output_type": "stream",
     "text": [
      "Test Score: 0.45611825585365295\n",
      "Test Accuracy: 0.7661735415458679\n"
     ]
    }
   ],
   "source": [
    "print(\"Test Score:\", lstm_model_score[0])\n",
    "print(\"Test Accuracy:\", lstm_model_score[1])"
   ]
  },
  {
   "cell_type": "code",
   "execution_count": 51,
   "metadata": {},
   "outputs": [],
   "source": [
    "lstm_model.save(f\"./models/c1_lstm_model_acc_{round(lstm_model_score[1], 3)}.h5\", save_format='h5')"
   ]
  },
  {
   "attachments": {},
   "cell_type": "markdown",
   "metadata": {},
   "source": [
    "## Making Predictions"
   ]
  },
  {
   "cell_type": "code",
   "execution_count": 52,
   "metadata": {},
   "outputs": [
    {
     "data": {
      "text/plain": [
       "'/Users/bohdan.mykhayliv/Documents/ucu/year3_semester2/ml/project/programming'"
      ]
     },
     "execution_count": 52,
     "metadata": {},
     "output_type": "execute_result"
    }
   ],
   "source": [
    "pwd"
   ]
  },
  {
   "cell_type": "code",
   "execution_count": 25,
   "metadata": {},
   "outputs": [
    {
     "name": "stdout",
     "output_type": "stream",
     "text": [
      "Model: \"sequential_1\"\n",
      "_________________________________________________________________\n",
      " Layer (type)                Output Shape              Param #   \n",
      "=================================================================\n",
      " embedding_1 (Embedding)     (None, 100, 100)          1346000   \n",
      "                                                                 \n",
      " conv1d (Conv1D)             (None, 96, 128)           64128     \n",
      "                                                                 \n",
      " global_max_pooling1d (Globa  (None, 128)              0         \n",
      " lMaxPooling1D)                                                  \n",
      "                                                                 \n",
      " dense_1 (Dense)             (None, 1)                 129       \n",
      "                                                                 \n",
      "=================================================================\n",
      "Total params: 1,410,257\n",
      "Trainable params: 64,257\n",
      "Non-trainable params: 1,346,000\n",
      "_________________________________________________________________\n"
     ]
    }
   ],
   "source": [
    "from keras.models import load_model\n",
    "\n",
    "model_path ='./models/c1_cnn_model_acc_0.868.h5'\n",
    "pretrained_model = load_model(model_path)\n",
    "\n",
    "pretrained_model.summary()"
   ]
  },
  {
   "cell_type": "code",
   "execution_count": 26,
   "metadata": {},
   "outputs": [],
   "source": [
    "positive_review = 'I absolutely love this dress! The fabric is incredibly soft and comfortable, and the fit is perfect for my body type. The color is vibrant and has not faded at all after multiple washes. The design is unique and eye-catching, and I have received numerous compliments every time I wear it. The attention to detail is also impressive, with intricate stitching and a flattering silhouette. Overall, I would highly recommend this dress to anyone looking for a high-quality, stylish addition to their wardrobe.'\n",
    "neutral_review = 'I recently purchased this dress and thought it was decent. The fabric was of average quality and the fit was mostly true to size, although I did have to make a few minor alterations to get it to fit just right. The color was nice, but not quite as vibrant as I was expecting. The design was simple and understated, which could be either a positive or negative depending on personal style preferences. Overall, I would say this dress is a solid option for a more casual or everyday look.'\n",
    "negative_review = ' was really disappointed with this dress. The fabric felt cheap and scratchy against my skin, and the fit was all wrong. The dress was advertised as being true to size, but it was way too tight in some areas and too loose in others. The color also looked different in person than it did online, and I was not a fan of how it looked on me. Additionally, the seams were poorly done and started coming apart after just a few wears. Overall, I would not recommend this dress to anyone.'"
   ]
  },
  {
   "cell_type": "code",
   "execution_count": 27,
   "metadata": {},
   "outputs": [],
   "source": [
    "preprocessed_positive_review = preprocess_text(positive_review)\n",
    "preprocessed_neutral_review = preprocess_text(neutral_review)\n",
    "preprocessed_negative_review = preprocess_text(negative_review)"
   ]
  },
  {
   "cell_type": "code",
   "execution_count": 28,
   "metadata": {},
   "outputs": [],
   "source": [
    "from keras_preprocessing.text import tokenizer_from_json"
   ]
  },
  {
   "cell_type": "code",
   "execution_count": 29,
   "metadata": {},
   "outputs": [],
   "source": [
    "with open('./preparing/b3_tokenizer.json') as f:\n",
    "    data = json.load(f)\n",
    "    loaded_tokenizer = tokenizer_from_json(data)"
   ]
  },
  {
   "cell_type": "code",
   "execution_count": 30,
   "metadata": {},
   "outputs": [],
   "source": [
    "reviews_list = [preprocessed_positive_review, preprocessed_neutral_review, preprocessed_negative_review]\n",
    "\n",
    "reviews_tokenized = loaded_tokenizer.texts_to_sequences(reviews_list)"
   ]
  },
  {
   "cell_type": "code",
   "execution_count": 31,
   "metadata": {},
   "outputs": [
    {
     "data": {
      "text/plain": [
       "[[2,\n",
       "  257,\n",
       "  21,\n",
       "  7,\n",
       "  18,\n",
       "  1,\n",
       "  45,\n",
       "  6,\n",
       "  664,\n",
       "  60,\n",
       "  3,\n",
       "  70,\n",
       "  3,\n",
       "  1,\n",
       "  27,\n",
       "  6,\n",
       "  54,\n",
       "  12,\n",
       "  17,\n",
       "  175,\n",
       "  462,\n",
       "  1,\n",
       "  47,\n",
       "  6,\n",
       "  511,\n",
       "  3,\n",
       "  89,\n",
       "  19,\n",
       "  1344,\n",
       "  44,\n",
       "  74,\n",
       "  201,\n",
       "  1132,\n",
       "  1154,\n",
       "  1,\n",
       "  143,\n",
       "  6,\n",
       "  279,\n",
       "  3,\n",
       "  659,\n",
       "  1715,\n",
       "  3,\n",
       "  2,\n",
       "  24,\n",
       "  240,\n",
       "  2120,\n",
       "  214,\n",
       "  320,\n",
       "  188,\n",
       "  2,\n",
       "  32,\n",
       "  5,\n",
       "  1,\n",
       "  1110,\n",
       "  8,\n",
       "  256,\n",
       "  6,\n",
       "  87,\n",
       "  3757,\n",
       "  14,\n",
       "  1862,\n",
       "  797,\n",
       "  3,\n",
       "  4,\n",
       "  58,\n",
       "  931,\n",
       "  255,\n",
       "  2,\n",
       "  41,\n",
       "  437,\n",
       "  210,\n",
       "  7,\n",
       "  18,\n",
       "  8,\n",
       "  849,\n",
       "  183,\n",
       "  12,\n",
       "  4,\n",
       "  179,\n",
       "  96,\n",
       "  519,\n",
       "  674,\n",
       "  8,\n",
       "  565,\n",
       "  480],\n",
       " [2,\n",
       "  943,\n",
       "  140,\n",
       "  7,\n",
       "  18,\n",
       "  3,\n",
       "  195,\n",
       "  5,\n",
       "  15,\n",
       "  1755,\n",
       "  1,\n",
       "  45,\n",
       "  15,\n",
       "  13,\n",
       "  900,\n",
       "  96,\n",
       "  3,\n",
       "  1,\n",
       "  27,\n",
       "  15,\n",
       "  1105,\n",
       "  131,\n",
       "  8,\n",
       "  22,\n",
       "  436,\n",
       "  2,\n",
       "  133,\n",
       "  24,\n",
       "  8,\n",
       "  189,\n",
       "  4,\n",
       "  378,\n",
       "  2015,\n",
       "  2247,\n",
       "  8,\n",
       "  115,\n",
       "  5,\n",
       "  8,\n",
       "  27,\n",
       "  39,\n",
       "  126,\n",
       "  1,\n",
       "  47,\n",
       "  15,\n",
       "  69,\n",
       "  10,\n",
       "  19,\n",
       "  262,\n",
       "  31,\n",
       "  511,\n",
       "  31,\n",
       "  2,\n",
       "  15,\n",
       "  785,\n",
       "  1,\n",
       "  143,\n",
       "  15,\n",
       "  561,\n",
       "  3,\n",
       "  2052,\n",
       "  82,\n",
       "  119,\n",
       "  29,\n",
       "  438,\n",
       "  4,\n",
       "  1487,\n",
       "  37,\n",
       "  1184,\n",
       "  702,\n",
       "  11,\n",
       "  1763,\n",
       "  132,\n",
       "  255,\n",
       "  2,\n",
       "  41,\n",
       "  277,\n",
       "  7,\n",
       "  18,\n",
       "  6,\n",
       "  4,\n",
       "  909,\n",
       "  946,\n",
       "  12,\n",
       "  4,\n",
       "  50,\n",
       "  198,\n",
       "  37,\n",
       "  984,\n",
       "  48],\n",
       " [15,\n",
       "  51,\n",
       "  327,\n",
       "  14,\n",
       "  7,\n",
       "  18,\n",
       "  1,\n",
       "  45,\n",
       "  266,\n",
       "  487,\n",
       "  3,\n",
       "  860,\n",
       "  1052,\n",
       "  17,\n",
       "  502,\n",
       "  3,\n",
       "  1,\n",
       "  27,\n",
       "  15,\n",
       "  74,\n",
       "  682,\n",
       "  1,\n",
       "  18,\n",
       "  15,\n",
       "  2790,\n",
       "  31,\n",
       "  208,\n",
       "  131,\n",
       "  8,\n",
       "  22,\n",
       "  10,\n",
       "  5,\n",
       "  15,\n",
       "  114,\n",
       "  35,\n",
       "  150,\n",
       "  9,\n",
       "  152,\n",
       "  1089,\n",
       "  3,\n",
       "  35,\n",
       "  172,\n",
       "  9,\n",
       "  525,\n",
       "  1,\n",
       "  47,\n",
       "  87,\n",
       "  158,\n",
       "  239,\n",
       "  9,\n",
       "  164,\n",
       "  71,\n",
       "  5,\n",
       "  133,\n",
       "  135,\n",
       "  3,\n",
       "  2,\n",
       "  15,\n",
       "  19,\n",
       "  4,\n",
       "  770,\n",
       "  13,\n",
       "  166,\n",
       "  5,\n",
       "  158,\n",
       "  11,\n",
       "  30,\n",
       "  2658,\n",
       "  1,\n",
       "  777,\n",
       "  127,\n",
       "  1539,\n",
       "  859,\n",
       "  3,\n",
       "  1393,\n",
       "  1005,\n",
       "  1176,\n",
       "  201,\n",
       "  39,\n",
       "  4,\n",
       "  378,\n",
       "  1059,\n",
       "  255,\n",
       "  2,\n",
       "  41,\n",
       "  19,\n",
       "  210,\n",
       "  7,\n",
       "  18,\n",
       "  8,\n",
       "  849]]"
      ]
     },
     "execution_count": 31,
     "metadata": {},
     "output_type": "execute_result"
    }
   ],
   "source": [
    "reviews_tokenized"
   ]
  },
  {
   "cell_type": "code",
   "execution_count": 32,
   "metadata": {},
   "outputs": [],
   "source": [
    "reviews_padded = pad_sequences(reviews_tokenized, padding='post', maxlen=100)"
   ]
  },
  {
   "cell_type": "code",
   "execution_count": 33,
   "metadata": {},
   "outputs": [
    {
     "data": {
      "text/plain": [
       "array([[   2,  257,   21,    7,   18,    1,   45,    6,  664,   60,    3,\n",
       "          70,    3,    1,   27,    6,   54,   12,   17,  175,  462,    1,\n",
       "          47,    6,  511,    3,   89,   19, 1344,   44,   74,  201, 1132,\n",
       "        1154,    1,  143,    6,  279,    3,  659, 1715,    3,    2,   24,\n",
       "         240, 2120,  214,  320,  188,    2,   32,    5,    1, 1110,    8,\n",
       "         256,    6,   87, 3757,   14, 1862,  797,    3,    4,   58,  931,\n",
       "         255,    2,   41,  437,  210,    7,   18,    8,  849,  183,   12,\n",
       "           4,  179,   96,  519,  674,    8,  565,  480,    0,    0,    0,\n",
       "           0,    0,    0,    0,    0,    0,    0,    0,    0,    0,    0,\n",
       "           0],\n",
       "       [   2,  943,  140,    7,   18,    3,  195,    5,   15, 1755,    1,\n",
       "          45,   15,   13,  900,   96,    3,    1,   27,   15, 1105,  131,\n",
       "           8,   22,  436,    2,  133,   24,    8,  189,    4,  378, 2015,\n",
       "        2247,    8,  115,    5,    8,   27,   39,  126,    1,   47,   15,\n",
       "          69,   10,   19,  262,   31,  511,   31,    2,   15,  785,    1,\n",
       "         143,   15,  561,    3, 2052,   82,  119,   29,  438,    4, 1487,\n",
       "          37, 1184,  702,   11, 1763,  132,  255,    2,   41,  277,    7,\n",
       "          18,    6,    4,  909,  946,   12,    4,   50,  198,   37,  984,\n",
       "          48,    0,    0,    0,    0,    0,    0,    0,    0,    0,    0,\n",
       "           0],\n",
       "       [  15,   51,  327,   14,    7,   18,    1,   45,  266,  487,    3,\n",
       "         860, 1052,   17,  502,    3,    1,   27,   15,   74,  682,    1,\n",
       "          18,   15, 2790,   31,  208,  131,    8,   22,   10,    5,   15,\n",
       "         114,   35,  150,    9,  152, 1089,    3,   35,  172,    9,  525,\n",
       "           1,   47,   87,  158,  239,    9,  164,   71,    5,  133,  135,\n",
       "           3,    2,   15,   19,    4,  770,   13,  166,    5,  158,   11,\n",
       "          30, 2658,    1,  777,  127, 1539,  859,    3, 1393, 1005, 1176,\n",
       "         201,   39,    4,  378, 1059,  255,    2,   41,   19,  210,    7,\n",
       "          18,    8,  849,    0,    0,    0,    0,    0,    0,    0,    0,\n",
       "           0]], dtype=int32)"
      ]
     },
     "execution_count": 33,
     "metadata": {},
     "output_type": "execute_result"
    }
   ],
   "source": [
    "reviews_padded"
   ]
  },
  {
   "cell_type": "code",
   "execution_count": 34,
   "metadata": {},
   "outputs": [
    {
     "name": "stdout",
     "output_type": "stream",
     "text": [
      "1/1 [==============================] - 0s 66ms/step\n"
     ]
    },
    {
     "data": {
      "text/plain": [
       "array([[0.9418644 ],\n",
       "       [0.18463959],\n",
       "       [0.00126234]], dtype=float32)"
      ]
     },
     "execution_count": 34,
     "metadata": {},
     "output_type": "execute_result"
    }
   ],
   "source": [
    "# Passing tokenised instance to the LSTM model for predictions\n",
    "reviews_sentiments = pretrained_model.predict(reviews_padded)\n",
    "\n",
    "reviews_sentiments"
   ]
  },
  {
   "attachments": {},
   "cell_type": "markdown",
   "metadata": {},
   "source": [
    "# Extracting Aspects:"
   ]
  },
  {
   "cell_type": "code",
   "execution_count": 292,
   "metadata": {},
   "outputs": [],
   "source": [
    "def get_word(ann, sentenceIndex, tokenIndex):\n",
    "    return ann.sentence[sentenceIndex].token[tokenIndex].word"
   ]
  },
  {
   "cell_type": "code",
   "execution_count": 293,
   "metadata": {},
   "outputs": [],
   "source": [
    "def join_compounds(ann):\n",
    "    compound_main_words = dict()\n",
    "    num_of_sentences = len(ann.sentence)\n",
    "    for sentenceIndex in range(num_of_sentences):\n",
    "        compound_ties = dict()\n",
    "        compound_headIndexes = []\n",
    "        sentence = ann.sentence[sentenceIndex]\n",
    "        for dependencie in sentence.basicDependencies.edge:\n",
    "            if dependencie.dep == 'compound':\n",
    "                ### if we already had that gov word\n",
    "                if dependencie.source in compound_ties:\n",
    "                    if (abs(dependencie.source - dependencie.target) < abs(dependencie.source - compound_ties[dependencie.source])):\n",
    "                        compound_headIndexes.remove(compound_ties[dependencie.source])\n",
    "                        compound_ties[dependencie.source] = dependencie.target\n",
    "                        compound_headIndexes.append(dependencie.target)\n",
    "                    continue\n",
    "                # print(dependencie.source, dependencie.target)\n",
    "                compound_ties[dependencie.source] = dependencie.target\n",
    "                compound_headIndexes.append(dependencie.target)\n",
    "                compound_headIndexes.append(dependencie.source)\n",
    "\n",
    "        compound_headIndexes.sort()\n",
    "        compound_chain = False\n",
    "        # print(compound_ties)\n",
    "        # print([(headIndex, get_word(ann, sentenceIndex, headIndex-1)) for headIndex in compound_headIndexes])\n",
    "        while True:\n",
    "            if len(compound_headIndexes) == 0:\n",
    "                break\n",
    "            if compound_chain == False:\n",
    "                compound_headIndex = max(compound_headIndexes)\n",
    "                main_compound_index = compound_headIndex\n",
    "                compound_main_words[(sentenceIndex, main_compound_index)] = [get_word(ann, sentenceIndex, main_compound_index-1)]\n",
    "                compound_headIndexes.remove(compound_headIndex)\n",
    "                compound_chain = True\n",
    "            else:\n",
    "                if compound_headIndex in compound_ties:\n",
    "                    compound_headIndex = compound_ties[compound_headIndex]\n",
    "                    compound_headIndexes.remove(compound_headIndex)\n",
    "                    compound_main_words[(sentenceIndex, main_compound_index)].append(get_word(ann, sentenceIndex, compound_headIndex-1))\n",
    "                else:\n",
    "                    compound_chain = False\n",
    "\n",
    "\n",
    "    final_compounds = dict()\n",
    "    for main_compound_key in compound_main_words:\n",
    "        reversed_words = compound_main_words[main_compound_key]\n",
    "        n = len(reversed_words)\n",
    "        words = [0]*n\n",
    "        for i in range(n):\n",
    "            words[i] = reversed_words[n-i-1]\n",
    "        final_compounds[main_compound_key] = \"-\".join(words)\n",
    "\n",
    "    return final_compounds"
   ]
  },
  {
   "cell_type": "code",
   "execution_count": 294,
   "metadata": {},
   "outputs": [],
   "source": [
    "def join_xcomp_advmod(ann):\n",
    "    advmods = dict()\n",
    "    xcomps = dict()\n",
    "    num_of_sentences = len(ann.sentence)\n",
    "    for sentenceIndex in range(num_of_sentences):\n",
    "        sentence = ann.sentence[sentenceIndex]\n",
    "        for dependencie in sentence.basicDependencies.edge:\n",
    "            if dependencie.dep == 'advmod':\n",
    "                if not (get_word(ann, sentenceIndex, dependencie.target-1) == \"WRB\"):\n",
    "                    advmods[(sentenceIndex, dependencie.source)] = (sentenceIndex, dependencie.target)\n",
    "            if dependencie.dep == 'xcomp':\n",
    "                xcomps[(sentenceIndex, dependencie.source)] = (sentenceIndex, dependencie.target)\n",
    "\n",
    "    xcomps_advmods = dict()\n",
    "    for gov in advmods:\n",
    "        dependent = advmods[gov]\n",
    "        gov_word = get_word(ann, gov[0], gov[1]-1)\n",
    "        dep_word = get_word(ann, dependent[0], dependent[1]-1)\n",
    "        if dependent[1] > gov[1]:\n",
    "            xcomps_advmods[gov] = f\"{gov_word}-{dep_word}\"\n",
    "        else:\n",
    "            xcomps_advmods[gov] = f\"{dep_word}-{gov_word}\"\n",
    "\n",
    "    for gov in xcomps:\n",
    "        dependent = xcomps[gov]\n",
    "        gov_word = get_word(ann, gov[0], gov[1]-1)\n",
    "        dependent_word = get_word(ann, dependent[0], dependent[1]-1)\n",
    "        if dependent in xcomps_advmods:\n",
    "            dependent_word = xcomps_advmods[dependent]\n",
    "\n",
    "        xcomps_advmods[gov] = f\"{gov_word}-{dependent_word}\"\n",
    "\n",
    "    return xcomps_advmods"
   ]
  },
  {
   "cell_type": "code",
   "execution_count": 295,
   "metadata": {},
   "outputs": [],
   "source": [
    "def replace_with_corefs(ann, opinion_pairs, corefs_pivot):\n",
    "    n = len(opinion_pairs)\n",
    "    for i in range(n):\n",
    "        opinion_pair = opinion_pairs[i]\n",
    "        dependencie_type = opinion_pair[0]\n",
    "        new_governor = opinion_pair[1]\n",
    "        new_dependent = opinion_pair[2]\n",
    "        if opinion_pair[1][1] in corefs_pivot:\n",
    "            new_governor_ind = corefs_pivot[opinion_pair[1][1]]\n",
    "            new_governor = (ann.sentence[new_governor_ind[0]].token[new_governor_ind[1] - 1].word, new_governor_ind)\n",
    "\n",
    "        if opinion_pair[2][1] in corefs_pivot:\n",
    "            new_dependent_ind = corefs_pivot[opinion_pair[2][1]]\n",
    "            new_dependent = (ann.sentence[new_dependent_ind[0]].token[new_dependent_ind[1] - 1].word, new_dependent_ind)\n",
    "\n",
    "        opinion_pairs[i] = (dependencie_type,new_governor, new_dependent)"
   ]
  },
  {
   "cell_type": "code",
   "execution_count": 296,
   "metadata": {},
   "outputs": [],
   "source": [
    "def replace_words_with_structure(opinion_pairs, structure_dict):\n",
    "    n = len(opinion_pairs)\n",
    "    for i in range(n):\n",
    "        opinion_pair = opinion_pairs[i]\n",
    "        dependencie_type = opinion_pair[0]\n",
    "        new_governor = opinion_pair[1]\n",
    "        new_dependent = opinion_pair[2]\n",
    "        if opinion_pair[1][1] in structure_dict:\n",
    "            new_governor_word = structure_dict[opinion_pair[1][1]]\n",
    "            new_governor = (new_governor_word, opinion_pair[1][1])\n",
    "\n",
    "        if opinion_pair[2][1] in structure_dict:\n",
    "            new_dependent_word = structure_dict[opinion_pair[2][1]]\n",
    "            new_dependent = (new_dependent_word, opinion_pair[2][1])\n",
    "\n",
    "        opinion_pairs[i] = (dependencie_type ,new_governor, new_dependent)"
   ]
  },
  {
   "cell_type": "code",
   "execution_count": 297,
   "metadata": {},
   "outputs": [],
   "source": [
    "def substract_opinion_pairs(ann, dependencies, unresolved_mentions):\n",
    "    opinion_pairs = []\n",
    "    for dependencie in dependencies:\n",
    "        if ((dependencie[0] == 'nsubj') and (dependencie[2][1] not in unresolved_mentions) and (ann.sentence[dependencie[1][1][0]].token[dependencie[1][1][1]-1].sentiment != \"Neutral\")):\n",
    "            opinion_pairs.append(dependencie)\n",
    "        elif ((dependencie[0] == 'amod') and (ann.sentence[dependencie[1][1][0]].token[dependencie[2][1][1]-1].pos == \"JJ\")):\n",
    "            opinion_pairs.append(dependencie)\n",
    "        elif ((dependencie[0] == 'obj') and (ann.sentence[dependencie[1][1][0]].token[dependencie[1][1][1]-1].sentiment != \"Neutral\")):   ### ??????\n",
    "            opinion_pairs.append(dependencie)\n",
    "        else:\n",
    "            continue\n",
    "    return opinion_pairs"
   ]
  },
  {
   "cell_type": "code",
   "execution_count": 298,
   "metadata": {},
   "outputs": [],
   "source": [
    "def extract_dependencies(ann):\n",
    "    dependencies = []\n",
    "    num_of_sentences = len(ann.sentence)\n",
    "    for sentenceIndex in range(num_of_sentences):\n",
    "        sentence = ann.sentence[sentenceIndex]\n",
    "        for dependencie in sentence.basicDependencies.edge:\n",
    "            governor = (sentenceIndex, dependencie.source)\n",
    "            relation_type = dependencie.dep\n",
    "            dependent = (sentenceIndex, dependencie.target)\n",
    "            # One dependencie: ('obj', ('enjoyed', (0, 2)), ('resolution', (0, 5)))\n",
    "            dependencies.append((relation_type, (sentence.token[governor[1]-1].word, governor), (sentence.token[dependent[1]-1].word, dependent)))\n",
    "    return dependencies"
   ]
  },
  {
   "cell_type": "code",
   "execution_count": 305,
   "metadata": {},
   "outputs": [],
   "source": [
    "def create_aspects_dict(opinion_pairs):\n",
    "    aspects_dict = dict()    # {aspect: [sentiment_word1, ....]}\n",
    "    for opinion_pair in opinion_pairs:\n",
    "        aspect = opinion_pair[2]\n",
    "        sentiment_word = opinion_pair[1]\n",
    "        if (opinion_pair[0] == 'nsubj'):\n",
    "            aspect = opinion_pair[2]\n",
    "            sentiment_word = opinion_pair[1]\n",
    "        elif (opinion_pair[0] == 'amod'):\n",
    "            aspect = opinion_pair[1]\n",
    "            sentiment_word = opinion_pair[2]\n",
    "        elif (opinion_pair[0] == 'obj'):\n",
    "            aspect = opinion_pair[2]\n",
    "            sentiment_word = opinion_pair[1]\n",
    "        else:\n",
    "            pass\n",
    "\n",
    "        if aspect in aspects_dict:\n",
    "            aspects_dict[aspect].append(sentiment_word)\n",
    "        else:\n",
    "            aspects_dict[aspect] = [sentiment_word]\n",
    "\n",
    "    return aspects_dict"
   ]
  },
  {
   "cell_type": "code",
   "execution_count": 306,
   "metadata": {},
   "outputs": [],
   "source": [
    "def print_apects_dict(aspects_dict):\n",
    "    for aspect in aspects_dict:\n",
    "        print(aspect[0], ': ', [sentiment_word[0] for sentiment_word in aspects_dict[aspect]], sep='')"
   ]
  },
  {
   "cell_type": "code",
   "execution_count": 307,
   "metadata": {},
   "outputs": [],
   "source": [
    "def parse_text(text):\n",
    "    ann = None\n",
    "    # Set up the client\n",
    "    with CoreNLPClient(be_quite=False, annotators=['tokenize', 'ssplit', 'pos', 'lemma', 'ner', 'parse', 'coref'], timeout=30000, memory='16G', endpoint='http://localhost:5003') as client:        \n",
    "        # Parse the text using the client\n",
    "        ann = client.annotate(text)\n",
    "\n",
    "        client.stop()\n",
    "    return ann\n"
   ]
  },
  {
   "cell_type": "code",
   "execution_count": 308,
   "metadata": {},
   "outputs": [],
   "source": [
    "def get_corefs(ann):\n",
    "    corefs = {}\n",
    "    unresolved_mentions = set()\n",
    "    min_indexes = set()\n",
    "    for coref in ann.corefChain:\n",
    "        mentions = []\n",
    "        min_sentenceIndex = float(\"inf\")\n",
    "        min_headIndex = float(\"inf\")\n",
    "        for mention in coref.mention:\n",
    "            if mention.sentenceIndex == min_sentenceIndex:\n",
    "                if mention.headIndex < min_headIndex:\n",
    "                    min_headIndex = mention.headIndex\n",
    "            if mention.sentenceIndex < min_sentenceIndex:\n",
    "                min_sentenceIndex = mention.sentenceIndex\n",
    "                min_headIndex = mention.headIndex\n",
    "\n",
    "            mentions.append((mention.sentenceIndex, mention.headIndex + 1))\n",
    "        min_indexes.add((min_sentenceIndex, min_headIndex + 1))\n",
    "        if len(mentions) > 1:\n",
    "            for mention in mentions:\n",
    "                key = mention[0], mention[1]\n",
    "                value = [m for m in mentions if m != mention]\n",
    "                corefs[key] = value\n",
    "        else:\n",
    "            if len(mentions) == 1:\n",
    "                ### add pronouns to unresolved\n",
    "                if ann.sentence[mentions[0][0]].token[mentions[0][1]-1].pos == \"PRP\":\n",
    "                    unresolved_mentions.add(mentions[0])\n",
    "\n",
    "    corefs_pivot = {}\n",
    "    for key in corefs:\n",
    "        if key in min_indexes:\n",
    "            replacable_words = corefs[key]\n",
    "            ### add pronouns to unresolved\n",
    "            if ann.sentence[key[0]].token[key[1]-1].pos == \"PRP\":\n",
    "                unresolved_mentions.add(key)\n",
    "                for replacable_word in replacable_words:\n",
    "                    unresolved_mentions.add(replacable_word)\n",
    "            ##############################\n",
    "            for replacable_word in replacable_words:\n",
    "                corefs_pivot[replacable_word] = key\n",
    "\n",
    "    return corefs_pivot, unresolved_mentions"
   ]
  },
  {
   "cell_type": "code",
   "execution_count": 309,
   "metadata": {},
   "outputs": [
    {
     "name": "stderr",
     "output_type": "stream",
     "text": [
      "2023-05-25 01:07:13 INFO: Writing properties to tmp file: corenlp_server-f2a19d89e9214726.props\n",
      "2023-05-25 01:07:13 INFO: Starting server with command: java -Xmx16G -cp ./stanford-corenlp-4.5.4/* edu.stanford.nlp.pipeline.StanfordCoreNLPServer -port 5003 -timeout 30000 -threads 5 -maxCharLength 100000 -quiet False -serverProperties corenlp_server-f2a19d89e9214726.props -annotators tokenize,ssplit,pos,lemma,ner,parse,coref -preload -outputFormat serialized\n",
      "[main] INFO CoreNLP - --- StanfordCoreNLPServer#main() called ---\n",
      "[main] INFO CoreNLP - Server default properties:\n",
      "\t\t\t(Note: unspecified annotator properties are English defaults)\n",
      "\t\t\tannotators = tokenize,ssplit,pos,lemma,ner,parse,coref\n",
      "\t\t\tinputFormat = text\n",
      "\t\t\toutputFormat = serialized\n",
      "\t\t\tprettyPrint = false\n",
      "\t\t\tthreads = 5\n",
      "[main] INFO CoreNLP - Threads: 5\n",
      "[main] INFO edu.stanford.nlp.pipeline.StanfordCoreNLP - Adding annotator tokenize\n",
      "[main] INFO edu.stanford.nlp.pipeline.StanfordCoreNLP - Adding annotator pos\n",
      "[main] INFO edu.stanford.nlp.tagger.maxent.MaxentTagger - Loading POS tagger from edu/stanford/nlp/models/pos-tagger/english-left3words-distsim.tagger ... done [0.5 sec].\n",
      "[main] INFO edu.stanford.nlp.pipeline.StanfordCoreNLP - Adding annotator lemma\n",
      "[main] INFO edu.stanford.nlp.pipeline.StanfordCoreNLP - Adding annotator ner\n",
      "[main] INFO edu.stanford.nlp.ie.AbstractSequenceClassifier - Loading classifier from edu/stanford/nlp/models/ner/english.all.3class.distsim.crf.ser.gz ... done [1.0 sec].\n",
      "[main] INFO edu.stanford.nlp.ie.AbstractSequenceClassifier - Loading classifier from edu/stanford/nlp/models/ner/english.muc.7class.distsim.crf.ser.gz ... done [0.5 sec].\n",
      "[main] INFO edu.stanford.nlp.ie.AbstractSequenceClassifier - Loading classifier from edu/stanford/nlp/models/ner/english.conll.4class.distsim.crf.ser.gz ... done [1.7 sec].\n",
      "[main] INFO edu.stanford.nlp.time.JollyDayHolidays - Initializing JollyDayHoliday for SUTime from classpath edu/stanford/nlp/models/sutime/jollyday/Holidays_sutime.xml as sutime.binder.1.\n",
      "[main] INFO edu.stanford.nlp.time.TimeExpressionExtractorImpl - Using following SUTime rules: edu/stanford/nlp/models/sutime/defs.sutime.txt,edu/stanford/nlp/models/sutime/english.sutime.txt,edu/stanford/nlp/models/sutime/english.holidays.sutime.txt\n",
      "[main] INFO edu.stanford.nlp.pipeline.TokensRegexNERAnnotator - ner.fine.regexner: Read 580705 unique entries out of 581864 from edu/stanford/nlp/models/kbp/english/gazetteers/regexner_caseless.tab, 0 TokensRegex patterns.\n",
      "[main] INFO edu.stanford.nlp.pipeline.TokensRegexNERAnnotator - ner.fine.regexner: Read 4867 unique entries out of 4867 from edu/stanford/nlp/models/kbp/english/gazetteers/regexner_cased.tab, 0 TokensRegex patterns.\n",
      "[main] INFO edu.stanford.nlp.pipeline.TokensRegexNERAnnotator - ner.fine.regexner: Read 585572 unique entries from 2 files\n",
      "[main] INFO edu.stanford.nlp.pipeline.NERCombinerAnnotator - numeric classifiers: true; SUTime: true [no docDate]; fine grained: true\n",
      "[main] INFO edu.stanford.nlp.pipeline.StanfordCoreNLP - Adding annotator parse\n",
      "[main] INFO edu.stanford.nlp.parser.common.ParserGrammar - Loading parser from serialized file edu/stanford/nlp/models/lexparser/englishPCFG.ser.gz ... done [0.5 sec].\n",
      "[main] INFO edu.stanford.nlp.pipeline.StanfordCoreNLP - Adding annotator coref\n",
      "[main] INFO edu.stanford.nlp.coref.statistical.SimpleLinearClassifier - Loading coref model edu/stanford/nlp/models/coref/statistical/ranking_model.ser.gz ... done [0.6 sec].\n",
      "[main] INFO edu.stanford.nlp.pipeline.CorefMentionAnnotator - Using mention detector type: dependency\n",
      "[main] INFO CoreNLP - Starting server...\n",
      "[main] INFO CoreNLP - StanfordCoreNLPServer listening at /0.0.0.0:5003\n",
      "[pool-1-thread-3] INFO CoreNLP - [/127.0.0.1:62793] API call w/annotators tokenize,pos,lemma,ner,parse,coref\n",
      "[pool-1-thread-3] INFO edu.stanford.nlp.pipeline.StanfordCoreNLP - Adding annotator tokenize\n",
      "[pool-1-thread-3] INFO edu.stanford.nlp.pipeline.StanfordCoreNLP - Adding annotator pos\n",
      "[pool-1-thread-3] INFO edu.stanford.nlp.pipeline.StanfordCoreNLP - Adding annotator lemma\n",
      "[pool-1-thread-3] INFO edu.stanford.nlp.pipeline.StanfordCoreNLP - Adding annotator ner\n",
      "[pool-1-thread-3] INFO edu.stanford.nlp.pipeline.StanfordCoreNLP - Adding annotator parse\n",
      "[pool-1-thread-3] INFO edu.stanford.nlp.pipeline.StanfordCoreNLP - Adding annotator coref\n"
     ]
    },
    {
     "name": "stdout",
     "output_type": "stream",
     "text": [
      "I enjoyed the body fit, it is very good for such a cheap dress. Also, I liked the fabrik, because it feels so soft!\n"
     ]
    },
    {
     "name": "stderr",
     "output_type": "stream",
     "text": [
      "[Thread-0] INFO CoreNLP - CoreNLP Server is shutting down.\n"
     ]
    }
   ],
   "source": [
    "text = \"I enjoyed the body fit, it is very good for such a cheap dress. Also, I liked the fabrik, because it feels so soft!\"\n",
    "ann = parse_text(text)"
   ]
  },
  {
   "cell_type": "code",
   "execution_count": 310,
   "metadata": {},
   "outputs": [
    {
     "name": "stdout",
     "output_type": "stream",
     "text": [
      "Opinion pairs:\n",
      "('obj', ('enjoyed', (0, 2)), ('fit', (0, 5)))\n",
      "('nsubj', ('good', (0, 10)), ('it', (0, 7)))\n",
      "('amod', ('dress', (0, 15)), ('cheap', (0, 14)))\n",
      "('obj', ('liked', (1, 4)), ('fabrik', (1, 6)))\n",
      "('nsubj', ('feels', (1, 10)), ('it', (1, 9)))\n",
      "Opinion pairs after coreference:\n",
      "('obj', ('enjoyed', (0, 2)), ('fit', (0, 5)))\n",
      "('nsubj', ('good', (0, 10)), ('it', (0, 7)))\n",
      "('amod', ('dress', (0, 15)), ('cheap', (0, 14)))\n",
      "('obj', ('liked', (1, 4)), ('fabrik', (1, 6)))\n",
      "('nsubj', ('feels', (1, 10)), ('fabrik', (1, 6)))\n",
      "Opinion pairs after connecting compounds:\n",
      "('obj', ('enjoyed', (0, 2)), ('body-fit', (0, 5)))\n",
      "('nsubj', ('good', (0, 10)), ('it', (0, 7)))\n",
      "('amod', ('dress', (0, 15)), ('cheap', (0, 14)))\n",
      "('obj', ('liked', (1, 4)), ('fabrik', (1, 6)))\n",
      "('nsubj', ('feels', (1, 10)), ('fabrik', (1, 6)))\n",
      "Opinion pairs after connecting xcomps and advmods:\n",
      "('obj', ('enjoyed', (0, 2)), ('body-fit', (0, 5)))\n",
      "('nsubj', ('very-good', (0, 10)), ('it', (0, 7)))\n",
      "('amod', ('dress', (0, 15)), ('cheap', (0, 14)))\n",
      "('obj', ('Also-liked', (1, 4)), ('fabrik', (1, 6)))\n",
      "('nsubj', ('feels-so-soft', (1, 10)), ('fabrik', (1, 6)))\n",
      "Aspects dict:\n",
      "body-fit: ['enjoyed']\n",
      "it: ['very-good']\n",
      "dress: ['cheap']\n",
      "fabrik: ['Also-liked', 'feels-so-soft']\n"
     ]
    }
   ],
   "source": [
    "compounds = join_compounds(ann)\n",
    "xcomps_advmods = join_xcomp_advmod(ann)\n",
    "\n",
    "# Extract the set of grammar dependencies\n",
    "# One dependencie: ('obj', ('enjoyed', (0, 2)), ('resolution', (0, 5)))\n",
    "dependencies = extract_dependencies(ann)\n",
    "\n",
    "corefs_pivot, unresolved_mentions = get_corefs(ann)\n",
    "# One opinion pair: ('obj', ('enjoyed', (0, 2)), ('resolution', (0, 5)))\n",
    "opinion_pairs = substract_opinion_pairs(ann, dependencies, unresolved_mentions)\n",
    "\n",
    "print(\"Opinion pairs:\")\n",
    "for opinion_pair in opinion_pairs:\n",
    "    print(opinion_pair)\n",
    "\n",
    "# Replace words with their coreferences\n",
    "replace_with_corefs(ann, opinion_pairs, corefs_pivot)\n",
    "\n",
    "print(\"Opinion pairs after coreference:\")\n",
    "for opinion_pair in opinion_pairs:\n",
    "    print(opinion_pair)\n",
    "\n",
    "# Connecting compounds\n",
    "replace_words_with_structure(opinion_pairs, compounds)\n",
    "\n",
    "print(\"Opinion pairs after connecting compounds:\")\n",
    "for opinion_pair in opinion_pairs:\n",
    "    print(opinion_pair)\n",
    "\n",
    "# Connecting xcomps and advmods\n",
    "replace_words_with_structure(opinion_pairs, xcomps_advmods)\n",
    "print(\"Opinion pairs after connecting xcomps and advmods:\")\n",
    "for opinion_pair in opinion_pairs:\n",
    "    print(opinion_pair)\n",
    "\n",
    "aspects_dict = create_aspects_dict(opinion_pairs)\n",
    "print(\"Aspects dict:\")\n",
    "print_apects_dict(aspects_dict)"
   ]
  },
  {
   "cell_type": "code",
   "execution_count": null,
   "metadata": {},
   "outputs": [],
   "source": []
  }
 ],
 "metadata": {
  "kernelspec": {
   "display_name": "base",
   "language": "python",
   "name": "python3"
  },
  "language_info": {
   "codemirror_mode": {
    "name": "ipython",
    "version": 3
   },
   "file_extension": ".py",
   "mimetype": "text/x-python",
   "name": "python",
   "nbconvert_exporter": "python",
   "pygments_lexer": "ipython3",
   "version": "3.9.13"
  }
 },
 "nbformat": 4,
 "nbformat_minor": 2
}
